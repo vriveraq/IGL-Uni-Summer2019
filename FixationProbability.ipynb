{
  "nbformat": 4,
  "nbformat_minor": 0,
  "metadata": {
    "colab": {
      "name": "FixationProbability.ipynb",
      "version": "0.3.2",
      "provenance": []
    },
    "kernelspec": {
      "name": "python3",
      "display_name": "Python 3"
    }
  },
  "cells": [
    {
      "cell_type": "markdown",
      "metadata": {
        "id": "qQB6MvSiKa1V",
        "colab_type": "text"
      },
      "source": [
        "# Fixation probability for a game:\n",
        "\n",
        "We are interested in knowing (theorerically and numerically) what strategy will be the one that \"outcompetes\" all the rest for a game given by a 2 by 2 matrix (game). We define the function theoretic_fixation() to compute this using Python. "
      ]
    },
    {
      "cell_type": "code",
      "metadata": {
        "id": "LIRaof7hLPR6",
        "colab_type": "code",
        "colab": {}
      },
      "source": [
        "import numpy as np\n",
        "import matplotlib.pyplot as plt\n",
        "%matplotlib inline"
      ],
      "execution_count": 0,
      "outputs": []
    },
    {
      "cell_type": "code",
      "metadata": {
        "id": "g83SVBc-Kuao",
        "colab_type": "code",
        "colab": {}
      },
      "source": [
        "def theoretic_fixation(N, game, i=1):\n",
        "    \"\"\"\n",
        "    Calculate x_i as given by the above formula\n",
        "    \"\"\"\n",
        "    f_ones = np.array([(game[0, 0] * (i - 1) + game[0, 1] * (N - i)) / (N - 1) for i in range(1, N)])\n",
        "    f_twos = np.array([(game[1, 0] * i + game[1, 1] * (N - i - 1)) / (N - 1) for i in range(1, N)])\n",
        "    gammas = f_twos / f_ones  #if gamma > 1 it means that the fitness of strategy 2 is biggger thant the fitness for strategy 1\n",
        "    return (1 + np.sum(np.cumprod(gammas[:i-1]))) / (1 + np.sum(np.cumprod(gammas)))"
      ],
      "execution_count": 0,
      "outputs": []
    },
    {
      "cell_type": "code",
      "metadata": {
        "id": "cmnoxUcFLDaZ",
        "colab_type": "code",
        "outputId": "b0d1e5bb-4a75-4b85-ff8c-cb557ca3c77e",
        "colab": {
          "base_uri": "https://localhost:8080/",
          "height": 34
        }
      },
      "source": [
        "# Create game and test function\n",
        "A = np.array([[4, 1],  [1, 4]])\n",
        "theoretic_fixation(N=4, i=1, game=A)"
      ],
      "execution_count": 3,
      "outputs": [
        {
          "output_type": "execute_result",
          "data": {
            "text/plain": [
              "0.125"
            ]
          },
          "metadata": {
            "tags": []
          },
          "execution_count": 3
        }
      ]
    },
    {
      "cell_type": "code",
      "metadata": {
        "id": "w-8BnlzGLdh0",
        "colab_type": "code",
        "colab": {}
      },
      "source": [
        "def moran(N, game, i=1, seed=0):\n",
        "    \"\"\"\n",
        "    Return the population counts for \n",
        "    the Moran process on a 2 by 2 game\n",
        "    \"\"\"\n",
        "    population = [0 for _ in range(i)] + [1 for _ in range(N - i)] #assign 0 to people using strategy 1, assign 1 for people using strategy 2.\n",
        "    counts = [(population.count(0), population.count(1))]\n",
        "    \n",
        "    np.random.seed(seed) # make results replicable\n",
        "    \n",
        "    # captures fitness (score)\n",
        "    while len(set(population)) == 2:\n",
        "        \n",
        "        scores = []\n",
        "        \n",
        "        for i, player in enumerate(population):\n",
        "            total = 0\n",
        "            for j, opponent in enumerate(population):\n",
        "                if i != j:\n",
        "                    total += game[player, opponent]\n",
        "            scores.append(total)\n",
        "\n",
        "        total_score = sum(scores)  \n",
        "        probabilities = [score / total_score for score in scores] #gives idea of who is winning \n",
        "        reproduce_index = np.random.choice(range(N), p=probabilities) #reproduce randomly, but smart i.e according to probabilites         \n",
        "        eliminate_index = np.random.randint(N)   # eliminate random individual\n",
        "        population[eliminate_index] = population[reproduce_index] # replaces eliminated individual with reproced individual\n",
        "        \n",
        "        counts.append((population.count(0), population.count(1))) # how many people are using strategy 1 and strategy 2\n",
        "    return counts\n",
        "\n",
        "def fixation(N, game, i=None, repetitions=10):\n",
        "    \"\"\"\n",
        "    Repeat the Moran process and calculate the fixation probability\n",
        "    \"\"\"\n",
        "    fixation_count = 0\n",
        "    for seed in range(repetitions):\n",
        "        final_counts = moran(N=N, i=i, game=game, seed=seed)\n",
        "        if final_counts[-1][0] > 0:\n",
        "            fixation_count += 1\n",
        "    return  fixation_count / repetitions"
      ],
      "execution_count": 0,
      "outputs": []
    },
    {
      "cell_type": "code",
      "metadata": {
        "id": "YwzgZ3chLr8x",
        "colab_type": "code",
        "outputId": "f77c0d54-028e-4c99-92e6-421cda8b122f",
        "colab": {
          "base_uri": "https://localhost:8080/",
          "height": 286
        }
      },
      "source": [
        "# Plot outcome of N interactions \n",
        "\n",
        "N = 4\n",
        "plt.plot(moran(N=N, i=1, seed=0, game=A));\n",
        "print(fixation(N=1,game = A, i=1, repetitions = 100))"
      ],
      "execution_count": 5,
      "outputs": [
        {
          "output_type": "stream",
          "text": [
            "1.0\n"
          ],
          "name": "stdout"
        },
        {
          "output_type": "display_data",
          "data": {
            "image/png": "[encoded data removed]",
            "text/plain": [
              "<Figure size 432x288 with 1 Axes>"
            ]
          },
          "metadata": {
            "tags": []
          }
        }
      ]
    }
  ]
}